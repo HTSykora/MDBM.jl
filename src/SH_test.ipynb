{
 "cells": [
  {
   "cell_type": "code",
   "execution_count": 1,
   "metadata": {},
   "outputs": [],
   "source": [
    "# SH test\n",
    "include(\"MDBM__types.jl\")\n",
    "# using Plots\n",
    "# gr()\n",
    "\n",
    "using PyPlot;\n",
    "pygui(true);"
   ]
  },
  {
   "cell_type": "code",
   "execution_count": 2,
   "metadata": {},
   "outputs": [],
   "source": [
    "function f(a,b)\n",
    "    a^2.0+b^2.0-2.0^2.0\n",
    "end\n",
    "function c(a,b)\n",
    "    a-b\n",
    "end\n",
    "\n",
    "ax1=Axis([-5,-2.5,0,2.5,5],\"a\")\n",
    "ax2=Axis(-5:2:5.0,\"b\")\n",
    "\n",
    "mymdbm=MDBM_Problem(f,[ax1,ax2],constraint=c)\n",
    "interpolate!(mymdbm,interpolationorder=1)"
   ]
  },
  {
   "cell_type": "code",
   "execution_count": 3,
   "metadata": {},
   "outputs": [
    {
     "name": "stdout",
     "output_type": "stream",
     "text": [
      "  0.638563 seconds (1.94 M allocations: 97.025 MiB, 4.76% gc time)\n",
      "  0.000371 seconds (1.40 k allocations: 51.844 KiB)\n",
      "------\n",
      "  0.000229 seconds (822 allocations: 65.031 KiB)\n",
      "  0.000307 seconds (3.01 k allocations: 108.766 KiB)\n",
      "------\n",
      "  0.000377 seconds (1.60 k allocations: 131.313 KiB)\n",
      "  0.000435 seconds (5.66 k allocations: 204.094 KiB)\n",
      "------\n",
      "+++++++++++++\n"
     ]
    }
   ],
   "source": [
    "for k=1:3\n",
    "    @time refine!(mymdbm)\n",
    "    @time interpolate!(mymdbm,interpolationorder=1)\n",
    "    println(\"------\")\n",
    "end\n",
    "println(\"+++++++++++++\")\n",
    "\n",
    "\n",
    "#evaluated points\n",
    "a_eval=[x.callargs[1] for x in mymdbm.fc.fvalarg]\n",
    "b_eval=[x.callargs[2] for x in mymdbm.fc.fvalarg]\n",
    "\n",
    "#solution points\n",
    "a_sol,b_sol=getinterpolatedpoint(mymdbm)\n",
    "\n",
    "fig = figure(1)\n",
    "scatter(a_eval,b_eval)\n",
    "\n",
    "# scatter(a_sol,b_sol,xlabel = ax1.name,ylabel = ax2.name,size = (500, 500),\n",
    "#      xticks = mymdbm.axes[1].ticks , yticks = mymdbm.axes[2].ticks, gridalpha=0.8)\n",
    "scatter(a_sol,b_sol);\n",
    "\n",
    "\n",
    "# @time myDT1=DTconnect(mymdbm);\n",
    "# triplot(a_sol,b_sol, triangles=myDT1)"
   ]
  },
  {
   "cell_type": "code",
   "execution_count": 18,
   "metadata": {
    "scrolled": true
   },
   "outputs": [
    {
     "name": "stdout",
     "output_type": "stream",
     "text": [
      "  1.198992 seconds (3.23 M allocations: 160.382 MiB, 4.96% gc time)\n",
      "  0.000293 seconds (2.65 k allocations: 94.781 KiB)\n"
     ]
    }
   ],
   "source": [
    "@time checkneighbour!(mymdbm)\n",
    "@time interpolate!(mymdbm,interpolationorder=1)\n",
    "\n",
    "#evaluated points\n",
    "a_eval=[x.callargs[1] for x in mymdbm.fc.fvalarg]\n",
    "b_eval=[x.callargs[2] for x in mymdbm.fc.fvalarg]\n",
    "\n",
    "#solution points\n",
    "a_sol,b_sol=getinterpolatedpoint(mymdbm)\n",
    "\n",
    "\n",
    "fig = figure(2)\n",
    "# cla())\n",
    "# clf()\n",
    "scatter(a_eval,b_eval)\n",
    "\n",
    "# scatter!(a_sol,b_sol,xlabel = ax1.name,ylabel = ax2.name,size = (500, 500),\n",
    "#      xticks = mymdbm.axes[1].ticks , yticks = mymdbm.axes[2].ticks, gridalpha=0.8)\n",
    "scatter(a_sol,b_sol);\n"
   ]
  },
  {
   "cell_type": "code",
   "execution_count": 11,
   "metadata": {},
   "outputs": [
    {
     "name": "stdout",
     "output_type": "stream",
     "text": [
      "Body\u001b[91m\u001b[1m::Any\u001b[22m\u001b[39m\n",
      "\u001b[90m\u001b[69G│  \u001b[1G\u001b[39m\u001b[90m413 \u001b[39m1 ─ %1 = %new(getfield(Main, Symbol(\"##71#73\")){MDBM_Problem{2,1,1}}, mdbm)\u001b[36m::getfield(Main, Symbol(\"##71#73\")){MDBM_Problem{2,1,1}}\u001b[39m\n",
      "\u001b[90m\u001b[69G│╻╷ Colon\u001b[1G\u001b[39m\u001b[90m    \u001b[39m│        (Base.ifelse)(true, 2, 0)\n",
      "\u001b[90m\u001b[69G││┃  Type\u001b[1G\u001b[39m\u001b[90m    \u001b[39m│   %3 = %new(UnitRange{Int64}, 1, 2)\u001b[36m::UnitRange{Int64}\u001b[39m\n",
      "\u001b[90m\u001b[69G││╻  Type\u001b[1G\u001b[39m\u001b[90m    \u001b[39m│   %4 = %new(Base.Generator{UnitRange{Int64},getfield(Main, Symbol(\"##71#73\")){MDBM_Problem{2,1,1}}}, %1, %3)\u001b[36m::Base.Generator{UnitRange{Int64},getfield(Main, Symbol(\"##71#73\")){MDBM_Problem{2,1,1}}}\u001b[39m\n",
      "\u001b[90m\u001b[69G│  \u001b[1G\u001b[39m\u001b[90m    \u001b[39m│   %5 = invoke Base.collect(%4::Base.Generator{UnitRange{Int64},getfield(Main, Symbol(\"##71#73\")){MDBM_Problem{2,1,1}}})\u001b[91m\u001b[1m::Any\u001b[22m\u001b[39m\n",
      "\u001b[90m\u001b[69G│  \u001b[1G\u001b[39m\u001b[90m    \u001b[39m└──      return %5\n"
     ]
    }
   ],
   "source": [
    "@code_warntype   getinterpolatedpoint(mymdbm)"
   ]
  },
  {
   "cell_type": "code",
   "execution_count": 19,
   "metadata": {},
   "outputs": [
    {
     "name": "stdout",
     "output_type": "stream",
     "text": [
      "726\n",
      "162\n"
     ]
    }
   ],
   "source": [
    "println(mymdbm.fc.memoryacc[1])\n",
    "println(length(mymdbm.fc.fvalarg))"
   ]
  },
  {
   "cell_type": "code",
   "execution_count": 20,
   "metadata": {},
   "outputs": [
    {
     "name": "stdout",
     "output_type": "stream",
     "text": [
      "  0.144439 seconds (241.76 k allocations: 12.265 MiB)\n",
      "  0.004346 seconds (39.38 k allocations: 1.584 MiB)\n",
      "------\n",
      "  0.013911 seconds (51.44 k allocations: 4.202 MiB, 45.89% gc time)\n",
      "  0.015507 seconds (140.91 k allocations: 5.694 MiB)\n",
      "------\n",
      "  0.040968 seconds (254.59 k allocations: 20.978 MiB, 13.92% gc time)\n",
      "  0.085079 seconds (610.95 k allocations: 24.598 MiB, 7.01% gc time)\n",
      "------\n",
      "  1.209194 seconds (4.05 M allocations: 326.143 MiB, 7.26% gc time)\n",
      "  0.031331 seconds (294.42 k allocations: 11.257 MiB)\n",
      "+++++++++++++\n"
     ]
    }
   ],
   "source": [
    "\n",
    "include(\"MDBM__types.jl\")\n",
    "\n",
    "using LinearAlgebra\n",
    "mymdbm=MDBM_Problem((x...)->norm([x...] .- 0.4,2.7)-1.9,[-2:2,-2:2,-2:2])\n",
    "\n",
    "interpolate!(mymdbm,interpolationorder=1)\n",
    "for k=1:3\n",
    "    @time refine!(mymdbm)\n",
    "    @time interpolate!(mymdbm,interpolationorder=1)\n",
    "    println(\"------\")\n",
    "end\n",
    "@time checkneighbour!(mymdbm)\n",
    "@time interpolate!(mymdbm,interpolationorder=1)\n",
    "\n",
    "println(\"+++++++++++++\")\n",
    "\n",
    "#evaluated points\n",
    "a_eval=[x.callargs[1] for x in mymdbm.fc.fvalarg]\n",
    "b_eval=[x.callargs[2] for x in mymdbm.fc.fvalarg]\n",
    "c_eval=[x.callargs[3] for x in mymdbm.fc.fvalarg]\n",
    "\n",
    "#solution points\n",
    "a_sol,b_sol,c_sol=getinterpolatedpoint(mymdbm)\n",
    "\n",
    "\n",
    "fig = figure(3)\n",
    "# gca(projection=\"3d\")\n",
    "# scatter(a_eval,b_eval,c_eval,markersize=1)\n",
    "\n",
    "plot3D(a_sol,b_sol,c_sol,linestyle=\"\", linewidth=3, marker=\"+\");"
   ]
  },
  {
   "cell_type": "code",
   "execution_count": 21,
   "metadata": {},
   "outputs": [
    {
     "name": "stdout",
     "output_type": "stream",
     "text": [
      "+++++++++++++\n"
     ]
    }
   ],
   "source": [
    "using LinearAlgebra\n",
    "mymdbm=MDBM_Problem((x...)->norm([x...].+ 1.5,1.7)+sin(x[1]*5)-2.0,[-2:2,-2:2])\n",
    "\n",
    "interpolate!(mymdbm,interpolationorder=1)\n",
    "for k=1:5\n",
    "    refine!(mymdbm)\n",
    "    interpolate!(mymdbm,interpolationorder=1)\n",
    "end\n",
    "checkneighbour!(mymdbm)\n",
    "interpolate!(mymdbm,interpolationorder=1)\n",
    "println(\"+++++++++++++\")\n",
    "\n",
    "#evaluated points\n",
    "a_eval=[x.callargs[1] for x in mymdbm.fc.fvalarg]\n",
    "b_eval=[x.callargs[2] for x in mymdbm.fc.fvalarg]\n",
    "\n",
    "a_sol,b_sol=getinterpolatedpoint(mymdbm)\n",
    "\n",
    "fig = figure(4)\n",
    "plot(a_eval,b_eval,linestyle=\"\",  marker=\".\",markersize=1)\n",
    "plot(a_sol,b_sol,linestyle=\"\",  marker=\".\",markersize=1);"
   ]
  },
  {
   "cell_type": "code",
   "execution_count": 22,
   "metadata": {},
   "outputs": [],
   "source": [
    "# # extension with the same resolution:\n",
    "# axesextend!(mymdbm,1,prepend=mymdbm.axes[1].ticks[1:end-1] .+(mymdbm.axes[1].ticks[1]- mymdbm.axes[1].ticks[end]));\n",
    "# axesextend!(mymdbm,2,prepend=mymdbm.axes[2].ticks[1:end-1] .+(mymdbm.axes[2].ticks[1]- mymdbm.axes[2].ticks[end]));\n",
    "\n",
    "#extension with different reselution\n",
    "axesextend!(mymdbm,1,prepend=-6.2:0.2:-2.2);\n",
    "axesextend!(mymdbm,2,prepend=-6.2:0.1:-2.2,append=2.2:0.2:3);"
   ]
  },
  {
   "cell_type": "code",
   "execution_count": 23,
   "metadata": {},
   "outputs": [
    {
     "name": "stdout",
     "output_type": "stream",
     "text": [
      "+++++++++++++\n"
     ]
    }
   ],
   "source": [
    "checkneighbour!(mymdbm)\n",
    "interpolate!(mymdbm,interpolationorder=1)\n",
    "println(\"+++++++++++++\")\n",
    "\n",
    "#evaluated points\n",
    "a_eval=[x.callargs[1] for x in mymdbm.fc.fvalarg]\n",
    "b_eval=[x.callargs[2] for x in mymdbm.fc.fvalarg]\n",
    "\n",
    "#solution points\n",
    "a_sol,b_sol=getinterpolatedpoint(mymdbm)\n",
    "\n",
    "\n",
    "# scatter(a_eval,b_eval,markersize=1)\n",
    "# scatter!(a_sol,b_sol,size = (800, 800),markersize=2,\n",
    "#      xticks = mymdbm.axes[1].ticks , yticks = mymdbm.axes[2].ticks, gridalpha=0.8)\n",
    "\n",
    "fig = figure(4)\n",
    "clf()\n",
    "plot(a_eval,b_eval,linestyle=\"\",  marker=\".\",markersize=1)\n",
    "plot(a_sol,b_sol,linestyle=\"\",  marker=\".\",markersize=1);"
   ]
  },
  {
   "cell_type": "code",
   "execution_count": 24,
   "metadata": {},
   "outputs": [
    {
     "name": "stdout",
     "output_type": "stream",
     "text": [
      "+++++++++++++\n"
     ]
    }
   ],
   "source": [
    "for k=1:2\n",
    "    refine!(mymdbm)\n",
    "    interpolate!(mymdbm,interpolationorder=1)\n",
    "end\n",
    "checkneighbour!(mymdbm)\n",
    "interpolate!(mymdbm,interpolationorder=1)\n",
    "println(\"+++++++++++++\")\n",
    "\n",
    "#evaluated points\n",
    "a_eval=[x.callargs[1] for x in mymdbm.fc.fvalarg]\n",
    "b_eval=[x.callargs[2] for x in mymdbm.fc.fvalarg]\n",
    "\n",
    "#solution points\n",
    "a_sol,b_sol=getinterpolatedpoint(mymdbm)\n",
    "\n",
    "\n",
    "# scatter(a_eval,b_eval,markersize=1)\n",
    "# scatter!(a_sol,b_sol,size = (800, 800),markersize=2,\n",
    "#  xticks = mymdbm.axes[1].ticks , yticks = mymdbm.axes[2].ticks, gridalpha=0.8)\n",
    "\n",
    "fig = figure(4)\n",
    "clf()\n",
    "plot(a_eval,b_eval,linestyle=\"\",  marker=\".\",markersize=1)\n",
    "plot(a_sol,b_sol,linestyle=\"\",  marker=\".\",markersize=1);"
   ]
  },
  {
   "cell_type": "code",
   "execution_count": 25,
   "metadata": {},
   "outputs": [
    {
     "ename": "DimensionMismatch",
     "evalue": "DimensionMismatch(\"cannot broadcast array to have fewer dimensions\")",
     "output_type": "error",
     "traceback": [
      "DimensionMismatch(\"cannot broadcast array to have fewer dimensions\")",
      "",
      "Stacktrace:",
      " [1] check_broadcast_shape(::Tuple{}, ::Tuple{Base.OneTo{Int64}}) at ./broadcast.jl:458",
      " [2] check_broadcast_axes(::Tuple{}, ::Array{Float64,1}) at ./broadcast.jl:463",
      " [3] instantiate at ./broadcast.jl:269 [inlined]",
      " [4] materialize!(::Float64, ::Base.Broadcast.Broadcasted{Base.Broadcast.DefaultArrayStyle{1},Nothing,typeof(identity),Tuple{Array{Float64,1}}}) at ./broadcast.jl:759",
      " [5] _interpolate!(::Array{NCube{Int64,Float64,2},1}, ::MDBM_Problem{2,0,1}, ::Type{Val{1}}) at /home/bachrathy/Documents/Git_repo/MDBM.jl/src/MDBM__types.jl:311",
      " [6] #interpolate!#944(::Int64, ::Function, ::MDBM_Problem{2,0,1}) at /home/bachrathy/Documents/Git_repo/MDBM.jl/src/MDBM__types.jl:350",
      " [7] (::getfield(Main, Symbol(\"#kw##interpolate!\")))(::NamedTuple{(:interpolationorder,),Tuple{Int64}}, ::typeof(interpolate!), ::MDBM_Problem{2,0,1}) at ./none:0",
      " [8] top-level scope at In[25]:11"
     ]
    }
   ],
   "source": [
    "# SH test\n",
    "include(\"MDBM__types.jl\")\n",
    "\n",
    "using LinearAlgebra\n",
    "# mymdbm=MDBM_Problem((x...)->norm([x...] .- 0.2,2.7)-1.9,[-2:2,-2:2])\n",
    "\n",
    "ax1=Axis(-5:3.0,\"a\")\n",
    "ax2=Axis(-5:3.0,\"b\")\n",
    "\n",
    "mymdbm=MDBM_Problem((x...)->[],[ax1,ax2],constraint=(x...) -> -(norm([x...].+ 1.5,1.7)+sin(x[1]*5)-2.0))\n",
    "# mymdbm=MDBM_Problem((x...) -> -maximum([0.0,-(norm([x...].+ 1.5,1.7)+sin(x[1]*5)-2.0)]),[ax1,ax2])\n",
    "interpolate!(mymdbm,interpolationorder=1)\n",
    "for k=1:4\n",
    "    refine!(mymdbm)\n",
    "    interpolate!(mymdbm,interpolationorder=1)\n",
    "end\n",
    "checkneighbour!(mymdbm)\n",
    "interpolate!(mymdbm,interpolationorder=1)\n",
    "println(\"+++++++++++++\")\n",
    "\n",
    "#solution points\n",
    "a_sol,b_sol=getinterpolatedpoint(mymdbm)\n",
    "\n",
    "F_sol=map((x,y)->x*x-y*y,a_sol,b_sol)\n",
    "# scatter(a_sol,b_sol,F_sol,size = (500, 500))\n",
    "\n",
    "\n",
    "fig = figure(5)\n",
    "plot3D(a_sol,b_sol,F_sol,linestyle=\"\",  marker=\".\",markersize=4);"
   ]
  },
  {
   "cell_type": "code",
   "execution_count": 26,
   "metadata": {},
   "outputs": [
    {
     "name": "stdout",
     "output_type": "stream",
     "text": [
      "+++++++++++++\n"
     ]
    }
   ],
   "source": [
    "# SH test\n",
    "include(\"MDBM__types.jl\")\n",
    "\n",
    "using LinearAlgebra\n",
    "\n",
    "ax1=Axis(-5:0.3:3.0,\"a\")\n",
    "ax2=Axis(-5:0.25:3.0,\"b\")\n",
    "ax3=Axis(-5:0.5:3.0,\"b\")\n",
    "\n",
    "\n",
    "mymdbm=MDBM_Problem((x...) -> -(norm([x...],2.505)-1.0^(2.505)),[ax1,ax2,ax3],constraint=(x...)->[x...])\n",
    "interpolate!(mymdbm,interpolationorder=1)\n",
    "for k=1:2\n",
    "    refine!(mymdbm)\n",
    "    interpolate!(mymdbm,interpolationorder=1)\n",
    "end\n",
    "checkneighbour!(mymdbm)\n",
    "\n",
    "interpolate!(mymdbm,interpolationorder=1)\n",
    "println(\"+++++++++++++\")\n",
    "\n",
    "#solution points\n",
    "# a_sol,b_sol=getinterpolatedpoint(mymdbm)\n",
    "a_sol,b_sol,c_sol=getinterpolatedpoint(mymdbm);\n",
    "\n"
   ]
  },
  {
   "cell_type": "code",
   "execution_count": 27,
   "metadata": {},
   "outputs": [
    {
     "name": "stdout",
     "output_type": "stream",
     "text": [
      "  0.322033 seconds (835.16 k allocations: 53.299 MiB, 7.62% gc time)\n"
     ]
    }
   ],
   "source": [
    "fig = figure(6)\n",
    "clf()\n",
    "\n",
    "@time myDT1=DTconnect(mymdbm);\n",
    "# plot3D(a_sol,b_sol,c_sol,linestyle=\"\",  marker=\".\",markersize=6)\n",
    "plot(a_sol,b_sol,linestyle=\"\",  marker=\".\",markersize=8)\n",
    "\n",
    " for i in 1:length(myDT1)\n",
    "     dt=myDT1[i]\n",
    "     P1=getinterpolatedpoint(mymdbm.ncubes[dt[1]],mymdbm)\n",
    "     P2=getinterpolatedpoint(mymdbm.ncubes[dt[2]],mymdbm)\n",
    "      plot3D([P1[1],P2[1]],[P1[2],P2[2]],[P1[3],P2[3]], color=\"k\")\n",
    "#       plot([P1[1],P2[1]],[P1[2],P2[2]])\n",
    "  end \n"
   ]
  },
  {
   "cell_type": "code",
   "execution_count": 33,
   "metadata": {},
   "outputs": [
    {
     "ename": "PyCall.PyError",
     "evalue": "PyError ($(Expr(:escape, :(ccall(#= /home/bachrathy/.julia/packages/PyCall/0jMpb/src/pyfncall.jl:44 =# @pysym(:PyObject_Call), PyPtr, (PyPtr, PyPtr, PyPtr), o, pyargsptr, kw))))) <class 'ValueError'>\nValueError('triangles max element is out of bounds')\n  File \"/home/bachrathy/.julia/conda/3/lib/python3.7/site-packages/mpl_toolkits/mplot3d/axes3d.py\", line 1945, in plot_trisurf\n    tri, args, kwargs = Triangulation.get_from_args_and_kwargs(*args, **kwargs)\n  File \"/home/bachrathy/.julia/conda/3/lib/python3.7/site-packages/matplotlib/tri/triangulation.py\", line 167, in get_from_args_and_kwargs\n    triangulation = Triangulation(x, y, triangles, mask)\n  File \"/home/bachrathy/.julia/conda/3/lib/python3.7/site-packages/matplotlib/tri/triangulation.py\", line 64, in __init__\n    raise ValueError('triangles max element is out of bounds')\n",
     "output_type": "error",
     "traceback": [
      "PyError ($(Expr(:escape, :(ccall(#= /home/bachrathy/.julia/packages/PyCall/0jMpb/src/pyfncall.jl:44 =# @pysym(:PyObject_Call), PyPtr, (PyPtr, PyPtr, PyPtr), o, pyargsptr, kw))))) <class 'ValueError'>\nValueError('triangles max element is out of bounds')\n  File \"/home/bachrathy/.julia/conda/3/lib/python3.7/site-packages/mpl_toolkits/mplot3d/axes3d.py\", line 1945, in plot_trisurf\n    tri, args, kwargs = Triangulation.get_from_args_and_kwargs(*args, **kwargs)\n  File \"/home/bachrathy/.julia/conda/3/lib/python3.7/site-packages/matplotlib/tri/triangulation.py\", line 167, in get_from_args_and_kwargs\n    triangulation = Triangulation(x, y, triangles, mask)\n  File \"/home/bachrathy/.julia/conda/3/lib/python3.7/site-packages/matplotlib/tri/triangulation.py\", line 64, in __init__\n    raise ValueError('triangles max element is out of bounds')\n",
      "",
      "Stacktrace:",
      " [1] pyerr_check at /home/bachrathy/.julia/packages/PyCall/0jMpb/src/exception.jl:60 [inlined]",
      " [2] pyerr_check at /home/bachrathy/.julia/packages/PyCall/0jMpb/src/exception.jl:64 [inlined]",
      " [3] macro expansion at /home/bachrathy/.julia/packages/PyCall/0jMpb/src/exception.jl:84 [inlined]",
      " [4] __pycall!(::PyCall.PyObject, ::Ptr{PyCall.PyObject_struct}, ::PyCall.PyObject, ::PyCall.PyObject) at /home/bachrathy/.julia/packages/PyCall/0jMpb/src/pyfncall.jl:44",
      " [5] _pycall!(::PyCall.PyObject, ::PyCall.PyObject, ::Tuple{Array{Float64,1},Array{Float64,1},Array{Float64,1}}, ::Int64, ::PyCall.PyObject) at /home/bachrathy/.julia/packages/PyCall/0jMpb/src/pyfncall.jl:29",
      " [6] _pycall!(::PyCall.PyObject, ::PyCall.PyObject, ::Tuple{Array{Float64,1},Array{Float64,1},Array{Float64,1}}, ::Base.Iterators.Pairs{Symbol,Array{Tuple{Int64,Int64,Int64},1},Tuple{Symbol},NamedTuple{(:triangles,),Tuple{Array{Tuple{Int64,Int64,Int64},1}}}}) at /home/bachrathy/.julia/packages/PyCall/0jMpb/src/pyfncall.jl:11",
      " [7] #pycall#88(::Base.Iterators.Pairs{Symbol,Array{Tuple{Int64,Int64,Int64},1},Tuple{Symbol},NamedTuple{(:triangles,),Tuple{Array{Tuple{Int64,Int64,Int64},1}}}}, ::Function, ::PyCall.PyObject, ::Type{PyCall.PyAny}, ::Array{Float64,1}, ::Vararg{Array{Float64,1},N} where N) at /home/bachrathy/.julia/packages/PyCall/0jMpb/src/pyfncall.jl:86",
      " [8] (::getfield(PyCall, Symbol(\"#kw##pycall\")))(::NamedTuple{(:triangles,),Tuple{Array{Tuple{Int64,Int64,Int64},1}}}, ::typeof(PyCall.pycall), ::PyCall.PyObject, ::Type{PyCall.PyAny}, ::Array{Float64,1}, ::Vararg{Array{Float64,1},N} where N) at ./none:0",
      " [9] #plot_trisurf#174(::Base.Iterators.Pairs{Symbol,Array{Tuple{Int64,Int64,Int64},1},Tuple{Symbol},NamedTuple{(:triangles,),Tuple{Array{Tuple{Int64,Int64,Int64},1}}}}, ::Function, ::Array{Float64,1}, ::Vararg{Array{Float64,1},N} where N) at /home/bachrathy/.julia/packages/PyPlot/mQXSC/src/plot3d.jl:50",
      " [10] (::getfield(PyPlot, Symbol(\"#kw##plot_trisurf\")))(::NamedTuple{(:triangles,),Tuple{Array{Tuple{Int64,Int64,Int64},1}}}, ::typeof(plot_trisurf), ::Array{Float64,1}, ::Vararg{Array{Float64,1},N} where N) at ./none:0",
      " [11] top-level scope at In[33]:4"
     ]
    }
   ],
   "source": [
    "fig = figure(7)\n",
    "clf()\n",
    "myDT2=triangulation(myDT1)\n",
    "\n",
    "\n",
    "plot_trisurf(a_sol,b_sol,c_sol,triangles=myDT2);"
   ]
  },
  {
   "cell_type": "code",
   "execution_count": null,
   "metadata": {},
   "outputs": [],
   "source": []
  }
 ],
 "metadata": {
  "@webio": {
   "lastCommId": "77e6488efaea47c78aad53ed74c3d310",
   "lastKernelId": "3bfdffa3-08b7-4dc0-a6c9-1e31d5ae08e4"
  },
  "kernelspec": {
   "display_name": "Julia 1.0.3",
   "language": "julia",
   "name": "julia-1.0"
  },
  "language_info": {
   "file_extension": ".jl",
   "mimetype": "application/julia",
   "name": "julia",
   "version": "1.0.3"
  }
 },
 "nbformat": 4,
 "nbformat_minor": 2
}
