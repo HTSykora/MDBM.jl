{
 "cells": [
  {
   "cell_type": "code",
   "execution_count": 1,
   "metadata": {},
   "outputs": [],
   "source": [
    "include(\"MDBM.jl\")\n",
    "using Reexport\n",
    "@reexport using .MDBM\n",
    "\n",
    "using PyPlot;\n",
    "pygui(true);"
   ]
  },
  {
   "cell_type": "code",
   "execution_count": 2,
   "metadata": {},
   "outputs": [],
   "source": [
    "function foo(x,y)\n",
    "    x^2.0+y^2.0-4.0^2.0\n",
    "end\n",
    "function c(x,y)\n",
    "    x-y\n",
    "end\n",
    "\n",
    "ax1=Axis([-5,-2.5,0,2.5,5],\"x\")\n",
    "ax2=Axis(-5:2:5.0,\"b\")\n",
    "\n",
    "mymdbm=MDBM_Problem(foo,[ax1,ax2],constraint=c)\n",
    "iteration=6 #number of refinements (resolution doubling)\n",
    "solve!(mymdbm,iteration)\n",
    "\n",
    "\n",
    "#evaluated points\n",
    "x_eval,y_eval=getevaluatedpoints(mymdbm)\n",
    "\n",
    "#solution points\n",
    "x_sol,y_sol=getinterpolatedsolution(mymdbm)\n",
    "\n",
    "fig = figure(1);clf()\n",
    "scatter(x_eval,y_eval,s=5)\n",
    "scatter(x_sol,y_sol,s=5)\n",
    "\n",
    "myDT1=connect(mymdbm);\n",
    "for i in 1:length(myDT1)\n",
    "    dt=myDT1[i]\n",
    "    P1=getinterpolatedsolution(mymdbm.ncubes[dt[1]],mymdbm)\n",
    "    P2=getinterpolatedsolution(mymdbm.ncubes[dt[2]],mymdbm)\n",
    "    plot([P1[1],P2[1]],[P1[2],P2[2]], color=\"k\")\n",
    "end "
   ]
  },
  {
   "cell_type": "code",
   "execution_count": 85,
   "metadata": {},
   "outputs": [],
   "source": [
    "using LinearAlgebra\n",
    "axes=[-2:2,-2:2,-2:2]\n",
    "fig = figure(3);clf()\n",
    "\n",
    "\n",
    "#Sphere1\n",
    "fS1=(x...)->norm([x...],2.0)-1\n",
    "Sphere1mdbm=MDBM_Problem(fS1,axes)\n",
    "solve!(Sphere1mdbm,4)\n",
    "a_sol,b_sol,c_sol=getinterpolatedsolution(Sphere1mdbm)\n",
    "plot3D(a_sol,b_sol,c_sol,linestyle=\"\", marker=\".\", markersize=1);\n",
    "\n",
    "\n",
    "#Sphere2\n",
    "fS2=(x...)->norm([x...] .- 0.5,2.0) -1.0\n",
    "Sphere2mdbm=MDBM_Problem(fS2,axes)\n",
    "solve!(Sphere2mdbm,4)\n",
    "a_sol,b_sol,c_sol=getinterpolatedsolution(Sphere2mdbm)\n",
    "plot3D(a_sol,b_sol,c_sol,linestyle=\"\", marker=\".\", markersize=1);\n",
    "\n",
    "fS12=(x...)->[fS1(x...),fS2(x...)]\n",
    "Intersectmdbm=MDBM_Problem(fS12,axes)\n",
    "solve!(Intersectmdbm,6)\n",
    "\n",
    "#Intersection\n",
    "a_sol,b_sol,c_sol=getinterpolatedsolution(Intersectmdbm)\n",
    "plot3D(a_sol,b_sol,c_sol,color=\"k\",linestyle=\"\", marker=\".\", markersize=2);"
   ]
  },
  {
   "cell_type": "code",
   "execution_count": 111,
   "metadata": {},
   "outputs": [],
   "source": [
    "fig = figure(4);clf()\n",
    "function mandelbrot(x,y)    \n",
    "    c=x+y*1im\n",
    "    z=Complex(0)\n",
    "    k=0\n",
    "    maxiteration=1000\n",
    "    while (k<maxiteration && abs(z)<4.0)\n",
    "            z=z^2+c\n",
    "            k=k+1\n",
    "        end\n",
    "    return abs(z)-2.0 #(k==maxiteration)# && abs(z)<2.0)#abs(z)<2.0\n",
    "end\n",
    "\n",
    "Mandelbrotmdbm=MDBM_Problem(mandelbrot,[-5:2,-2:2])\n",
    "solve!(Mandelbrotmdbm,9)\n",
    "a_sol,b_sol=getinterpolatedsolution(Mandelbrotmdbm)\n",
    "plot(a_sol,b_sol,linestyle=\"\", marker=\".\", markersize=1);"
   ]
  },
  {
   "cell_type": "code",
   "execution_count": 58,
   "metadata": {},
   "outputs": [
    {
     "data": {
      "text/plain": [
       "0.44406845960638414"
      ]
     },
     "execution_count": 58,
     "metadata": {},
     "output_type": "execute_result"
    }
   ],
   "source": []
  },
  {
   "cell_type": "code",
   "execution_count": null,
   "metadata": {},
   "outputs": [],
   "source": []
  },
  {
   "cell_type": "code",
   "execution_count": null,
   "metadata": {},
   "outputs": [],
   "source": [
    "plot3D(a_sol,b_sol,c_sol,linestyle=\"\", linewidth=3, marker=\".\", markersize=0.5);"
   ]
  },
  {
   "cell_type": "code",
   "execution_count": 3,
   "metadata": {},
   "outputs": [],
   "source": [
    "function f(a,b)\n",
    "    a^2.0+b^2.0-2.0^2.0\n",
    "end\n",
    "function c(a,b)\n",
    "    a-b\n",
    "end\n",
    "\n",
    "ax1=Axis([-5,-2.5,0,2.5,5],\"a\")\n",
    "ax2=Axis(-5:2:5.0,\"b\")\n",
    "\n",
    "mymdbm=MDBM_Problem(f,[ax1,ax2],constraint=c)\n",
    "interpolate!(mymdbm,interpolationorder=1)"
   ]
  },
  {
   "cell_type": "code",
   "execution_count": 4,
   "metadata": {},
   "outputs": [
    {
     "name": "stdout",
     "output_type": "stream",
     "text": [
      "  0.003232 seconds (590 allocations: 40.625 KiB)\n",
      "  0.000564 seconds (2.38 k allocations: 1.471 MiB)\n",
      "------\n",
      "  0.000332 seconds (1.19 k allocations: 94.375 KiB)\n",
      "  0.000512 seconds (5.27 k allocations: 3.209 MiB)\n",
      "------\n",
      "  0.000489 seconds (2.32 k allocations: 187.000 KiB)\n",
      "  0.001028 seconds (10.73 k allocations: 6.644 MiB)\n",
      "------\n",
      "+++++++++++++\n"
     ]
    }
   ],
   "source": [
    "for k=1:3\n",
    "    @time refine!(mymdbm)\n",
    "    @time interpolate!(mymdbm,interpolationorder=1)\n",
    "    println(\"------\")\n",
    "end\n",
    "println(\"+++++++++++++\")\n",
    "\n",
    "\n",
    "#evaluated points\n",
    "a_eval,b_eval=getevaluatedpoints(mymdbm)\n",
    "\n",
    "\n",
    "#solution points\n",
    "a_sol,b_sol=getinterpolatedsolution(mymdbm)\n",
    "\n",
    "fig = figure(1)\n",
    "scatter(a_eval,b_eval)\n",
    "\n",
    "# scatter(a_sol,b_sol,xlabel = ax1.name,ylabel = ax2.name,size = (500, 500),\n",
    "#      xticks = mymdbm.axes[1].ticks , yticks = mymdbm.axes[2].ticks, gridalpha=0.8)\n",
    "scatter(a_sol,b_sol);\n",
    "\n",
    "\n",
    "# @time myDT1=DTconnect(mymdbm);\n",
    "# triplot(a_sol,b_sol, triangles=myDT1)"
   ]
  },
  {
   "cell_type": "code",
   "execution_count": 19,
   "metadata": {
    "scrolled": true
   },
   "outputs": [
    {
     "name": "stdout",
     "output_type": "stream",
     "text": [
      "  0.001527 seconds (6.98 k allocations: 755.359 KiB)\n",
      "  0.000716 seconds (4.70 k allocations: 3.061 MiB)\n"
     ]
    }
   ],
   "source": [
    "@time checkneighbour!(mymdbm)\n",
    "@time interpolate!(mymdbm,interpolationorder=1)\n",
    "\n",
    "#evaluated points\n",
    "a_eval=[x.callargs[1] for x in mymdbm.fc.fvalarg]\n",
    "b_eval=[x.callargs[2] for x in mymdbm.fc.fvalarg]\n",
    "\n",
    "#solution points\n",
    "a_sol,b_sol=getinterpolatedsolution(mymdbm)\n",
    "\n",
    "\n",
    "fig = figure(2)\n",
    "# cla())\n",
    "# clf()\n",
    "scatter(a_eval,b_eval)\n",
    "\n",
    "# scatter!(a_sol,b_sol,xlabel = ax1.name,ylabel = ax2.name,size = (500, 500),\n",
    "#      xticks = mymdbm.axes[1].ticks , yticks = mymdbm.axes[2].ticks, gridalpha=0.8)\n",
    "scatter(a_sol,b_sol);\n"
   ]
  },
  {
   "cell_type": "code",
   "execution_count": 20,
   "metadata": {},
   "outputs": [
    {
     "name": "stdout",
     "output_type": "stream",
     "text": [
      "939\n",
      "197\n"
     ]
    }
   ],
   "source": [
    "println(mymdbm.fc.memoryacc[1])\n",
    "println(length(mymdbm.fc.fvalarg))"
   ]
  },
  {
   "cell_type": "code",
   "execution_count": 5,
   "metadata": {},
   "outputs": [
    {
     "name": "stdout",
     "output_type": "stream",
     "text": [
      "  0.005764 seconds (13.28 k allocations: 1.121 MiB)\n",
      "  0.023384 seconds (57.83 k allocations: 31.852 MiB, 63.51% gc time)\n",
      "------\n",
      "  0.010327 seconds (67.59 k allocations: 5.499 MiB)\n",
      "  0.047467 seconds (246.28 k allocations: 135.902 MiB, 32.94% gc time)\n",
      "------\n",
      "  0.060598 seconds (334.03 k allocations: 27.519 MiB, 11.77% gc time)\n",
      "  0.187887 seconds (983.36 k allocations: 543.531 MiB, 25.52% gc time)\n",
      "------\n",
      "  0.249241 seconds (1.52 M allocations: 126.212 MiB, 11.07% gc time)\n",
      "  1.175197 seconds (4.08 M allocations: 2.202 GiB, 22.97% gc time)\n",
      "------\n",
      "  1.520947 seconds (8.11 M allocations: 3.782 GiB, 24.62% gc time)\n",
      "  0.377975 seconds (1.91 M allocations: 1.097 GiB, 30.74% gc time)\n",
      "+++++++++++++\n"
     ]
    }
   ],
   "source": [
    "using LinearAlgebra\n",
    "mymdbm=MDBM_Problem((x...)->norm([x...] .- 0.4,2.7)-1.9,[-2:2,-2:2,-2:2])\n",
    "\n",
    "interpolate!(mymdbm,interpolationorder=1)\n",
    "for k=1:4\n",
    "    @time refine!(mymdbm)\n",
    "    @time interpolate!(mymdbm,interpolationorder=1)\n",
    "    println(\"------\")\n",
    "end\n",
    "@time checkneighbour!(mymdbm)\n",
    "@time interpolate!(mymdbm,interpolationorder=1)\n",
    "\n",
    "println(\"+++++++++++++\")\n",
    "\n",
    "#evaluated points\n",
    "a_eval,b_eval,c_val=getevaluatedpoints(mymdbm)\n",
    "\n",
    "#solution points\n",
    "a_sol,b_sol,c_sol=getinterpolatedsolution(mymdbm)\n",
    "\n",
    "\n",
    "fig = figure(3);clf()\n",
    "# scatter(a_eval,b_eval,c_eval,markersize=1)\n",
    "\n",
    "plot3D(a_sol,b_sol,c_sol,linestyle=\"\", linewidth=3, marker=\".\", markersize=0.5);"
   ]
  },
  {
   "cell_type": "code",
   "execution_count": 50,
   "metadata": {},
   "outputs": [],
   "source": [
    "using LinearAlgebra\n",
    "mymdbm=MDBM_Problem((x...)->norm([x...].+ 1.5,1.7)+sin(x[1]*5)-2.0,[-2:2,-2:2])\n",
    "\n",
    "interpolate!(mymdbm,interpolationorder=1)\n",
    "for k=1:5\n",
    "    refine!(mymdbm)\n",
    "    interpolate!(mymdbm,interpolationorder=1)\n",
    "end\n",
    "checkneighbour!(mymdbm)\n",
    "interpolate!(mymdbm,interpolationorder=1)\n",
    "\n",
    "#evaluated points\n",
    "a_eval,b_eval=getevaluatedpoints(mymdbm)\n",
    "\n",
    "a_sol,b_sol=getinterpolatedsolution(mymdbm)\n",
    "\n",
    "fig = figure(4)\n",
    "plot(a_eval,b_eval,linestyle=\"\",  marker=\".\",markersize=1)\n",
    "plot(a_sol,b_sol,linestyle=\"\",  marker=\".\",markersize=1);"
   ]
  },
  {
   "cell_type": "code",
   "execution_count": 51,
   "metadata": {},
   "outputs": [],
   "source": [
    "# # extension with the same resolution:\n",
    "# axesextend!(mymdbm,1,prepend=mymdbm.axes[1].ticks[1:end-1] .+(mymdbm.axes[1].ticks[1]- mymdbm.axes[1].ticks[end]));\n",
    "# axesextend!(mymdbm,2,prepend=mymdbm.axes[2].ticks[1:end-1] .+(mymdbm.axes[2].ticks[1]- mymdbm.axes[2].ticks[end]));\n",
    "\n",
    "#extension with different reselution\n",
    "axesextend!(mymdbm,1,prepend=-6.2:0.2:-2.2);\n",
    "axesextend!(mymdbm,2,prepend=-6.2:0.1:-2.2,append=2.2:0.2:3);"
   ]
  },
  {
   "cell_type": "code",
   "execution_count": 52,
   "metadata": {},
   "outputs": [],
   "source": [
    "checkneighbour!(mymdbm)\n",
    "interpolate!(mymdbm,interpolationorder=1)\n",
    "\n",
    "#evaluated points\n",
    "a_eval,b_eval=getevaluatedpoints(mymdbm)\n",
    "\n",
    "#solution points\n",
    "a_sol,b_sol=getinterpolatedsolution(mymdbm)\n",
    "\n",
    "\n",
    "# scatter(a_eval,b_eval,markersize=1)\n",
    "# scatter!(a_sol,b_sol,size = (800, 800),markersize=2,\n",
    "#      xticks = mymdbm.axes[1].ticks , yticks = mymdbm.axes[2].ticks, gridalpha=0.8)\n",
    "\n",
    "fig = figure(4)\n",
    "clf()\n",
    "plot(a_eval,b_eval,linestyle=\"\",  marker=\".\",markersize=1)\n",
    "plot(a_sol,b_sol,linestyle=\"\",  marker=\".\",markersize=1);"
   ]
  },
  {
   "cell_type": "code",
   "execution_count": 53,
   "metadata": {},
   "outputs": [],
   "source": [
    "for k=1:2\n",
    "    refine!(mymdbm)\n",
    "    interpolate!(mymdbm,interpolationorder=1)\n",
    "end\n",
    "checkneighbour!(mymdbm)\n",
    "interpolate!(mymdbm,interpolationorder=1)\n",
    "\n",
    "#evaluated points\n",
    "a_eval,b_eval=getevaluatedpoints(mymdbm)\n",
    "\n",
    "#solution points\n",
    "a_sol,b_sol=getinterpolatedsolution(mymdbm)\n",
    "\n",
    "\n",
    "# scatter(a_eval,b_eval,markersize=1)\n",
    "# scatter!(a_sol,b_sol,size = (800, 800),markersize=2,\n",
    "#  xticks = mymdbm.axes[1].ticks , yticks = mymdbm.axes[2].ticks, gridalpha=0.8)\n",
    "\n",
    "fig = figure(4)\n",
    "clf()\n",
    "plot(a_eval,b_eval,linestyle=\"\",  marker=\".\",markersize=1)\n",
    "plot(a_sol,b_sol,linestyle=\"\",  marker=\".\",markersize=1);"
   ]
  },
  {
   "cell_type": "code",
   "execution_count": 54,
   "metadata": {},
   "outputs": [
    {
     "ename": "DimensionMismatch",
     "evalue": "DimensionMismatch(\"cannot broadcast array to have fewer dimensions\")",
     "output_type": "error",
     "traceback": [
      "DimensionMismatch(\"cannot broadcast array to have fewer dimensions\")",
      "",
      "Stacktrace:",
      " [1] check_broadcast_shape(::Tuple{}, ::Tuple{Base.OneTo{Int64}}) at ./broadcast.jl:458",
      " [2] check_broadcast_axes(::Tuple{}, ::Array{Float64,1}) at ./broadcast.jl:463",
      " [3] instantiate at ./broadcast.jl:269 [inlined]",
      " [4] materialize!(::Float64, ::Base.Broadcast.Broadcasted{Base.Broadcast.DefaultArrayStyle{1},Nothing,typeof(identity),Tuple{Array{Float64,1}}}) at ./broadcast.jl:759",
      " [5] _interpolate!(::Array{Main.MDBM.NCube{Int64,Float64,2},1}, ::MDBM_Problem{2,0,1}, ::Type{Val{1}}) at /home/bachrathy/Documents/Git_repo/MDBM.jl/src/MDBM_functions.jl:123",
      " [6] #interpolate!#60(::Int64, ::Function, ::MDBM_Problem{2,0,1}) at /home/bachrathy/Documents/Git_repo/MDBM.jl/src/MDBM_functions.jl:154",
      " [7] (::getfield(Main.MDBM, Symbol(\"#kw##interpolate!\")))(::NamedTuple{(:interpolationorder,),Tuple{Int64}}, ::typeof(interpolate!), ::MDBM_Problem{2,0,1}) at ./none:0",
      " [8] top-level scope at In[54]:7"
     ]
    },
    {
     "name": "stderr",
     "output_type": "stream",
     "text": [
      "QXcbConnection: XCB error: 148 (Unknown), sequence: 7763, resource id: 0, major code: 140 (Unknown), minor code: 20\n",
      "QXcbConnection: XCB error: 148 (Unknown), sequence: 7764, resource id: 0, major code: 140 (Unknown), minor code: 20\n",
      "QXcbConnection: XCB error: 148 (Unknown), sequence: 7765, resource id: 0, major code: 140 (Unknown), minor code: 20\n"
     ]
    }
   ],
   "source": [
    "using LinearAlgebra\n",
    "\n",
    "ax1=Axis(-5:3.0,\"a\")\n",
    "ax2=Axis(-5:3.0,\"b\")\n",
    "\n",
    "mymdbm=MDBM_Problem((x...)->[],[ax1,ax2],constraint=(x...) -> -(norm([x...].+ 1.5,1.7)+sin(x[1]*5)-2.0))\n",
    "# mymdbm=MDBM_Problem((x...) -> -maximum([0.0,-(norm([x...].+ 1.5,1.7)+sin(x[1]*5)-2.0)]),[ax1,ax2])\n",
    "interpolate!(mymdbm,interpolationorder=1)\n",
    "for k=1:4\n",
    "    refine!(mymdbm)\n",
    "    interpolate!(mymdbm,interpolationorder=1)\n",
    "end\n",
    "checkneighbour!(mymdbm)\n",
    "interpolate!(mymdbm,interpolationorder=1)\n",
    "\n",
    "#solution points\n",
    "a_sol,b_sol=getinterpolatedsolution(mymdbm)\n",
    "\n",
    "F_sol=map((x,y)->x*x-y*y,a_sol,b_sol)\n",
    "# scatter(a_sol,b_sol,F_sol,size = (500, 500))\n",
    "\n",
    "\n",
    "fig = figure(5)\n",
    "plot3D(a_sol,b_sol,F_sol,linestyle=\"\",  marker=\".\",markersize=4);"
   ]
  },
  {
   "cell_type": "code",
   "execution_count": 13,
   "metadata": {},
   "outputs": [],
   "source": [
    "using LinearAlgebra\n",
    "\n",
    "ax1=Axis(-5:0.3:3.0,\"a\")\n",
    "ax2=Axis(-5:0.25:3.0,\"b\")\n",
    "ax3=Axis(-5:0.5:3.0,\"b\")\n",
    "\n",
    "\n",
    "mymdbm=MDBM_Problem((x...) -> -(norm([x...],2.505)-1.0^(2.505)),[ax1,ax2,ax3],constraint=(x...)->[x...])\n",
    "interpolate!(mymdbm,interpolationorder=1)\n",
    "for k=1:2\n",
    "    refine!(mymdbm)\n",
    "    interpolate!(mymdbm,interpolationorder=1)\n",
    "end\n",
    "checkneighbour!(mymdbm)\n",
    "\n",
    "interpolate!(mymdbm,interpolationorder=1)\n",
    "\n",
    "#solution points\n",
    "# a_sol,b_sol=getinterpolatedsolution(mymdbm)\n",
    "a_sol,b_sol,c_sol=getinterpolatedsolution(mymdbm);"
   ]
  },
  {
   "cell_type": "code",
   "execution_count": 14,
   "metadata": {},
   "outputs": [
    {
     "name": "stdout",
     "output_type": "stream",
     "text": [
      "  0.318272 seconds (857.27 k allocations: 55.343 MiB, 4.54% gc time)\n"
     ]
    }
   ],
   "source": [
    "fig = figure(6)\n",
    "clf()\n",
    "\n",
    "@time myDT1=connect(mymdbm);\n",
    "# plot3D(a_sol,b_sol,c_sol,linestyle=\"\",  marker=\".\",markersize=6)\n",
    "plot(a_sol,b_sol,linestyle=\"\",  marker=\".\",markersize=8)\n",
    "\n",
    " for i in 1:length(myDT1)\n",
    "     dt=myDT1[i]\n",
    "     P1=getinterpolatedsolution(mymdbm.ncubes[dt[1]],mymdbm)\n",
    "     P2=getinterpolatedsolution(mymdbm.ncubes[dt[2]],mymdbm)\n",
    "      plot3D([P1[1],P2[1]],[P1[2],P2[2]],[P1[3],P2[3]], color=\"k\")\n",
    "#       plot([P1[1],P2[1]],[P1[2],P2[2]])\n",
    "  end \n"
   ]
  },
  {
   "cell_type": "code",
   "execution_count": 15,
   "metadata": {},
   "outputs": [],
   "source": [
    "fig = figure(7)\n",
    "clf()\n",
    "myDT2=triangulation(myDT1)\n",
    "\n",
    "\n",
    "plot_trisurf(a_sol,b_sol,c_sol,triangles=myDT2);"
   ]
  }
 ],
 "metadata": {
  "@webio": {
   "lastCommId": "e02c1f5e32c2404588a52e56329333db",
   "lastKernelId": "cde4c863-ead3-45af-9e74-857d93349f97"
  },
  "kernelspec": {
   "display_name": "Julia 1.0.3",
   "language": "julia",
   "name": "julia-1.0"
  },
  "language_info": {
   "file_extension": ".jl",
   "mimetype": "application/julia",
   "name": "julia",
   "version": "1.0.3"
  }
 },
 "nbformat": 4,
 "nbformat_minor": 2
}
